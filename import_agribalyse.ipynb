{
 "cells": [
  {
   "cell_type": "code",
   "execution_count": 1,
   "id": "43d22161",
   "metadata": {},
   "outputs": [],
   "source": [
    "import bw2data as bd\n",
    "import bw2io as bi\n",
    "import bw2calc as bc\n",
    "import json\n",
    "import re\n",
    "import pandas as pd\n",
    "from agro_strategies import apply_agro_strategies\n",
    "\n",
    "project = \"import agribalyse 3.1\"\n",
    "bd.projects.set_current(project)"
   ]
  },
  {
   "cell_type": "code",
   "execution_count": 2,
   "id": "a1aee5fd",
   "metadata": {
    "scrolled": true
   },
   "outputs": [
    {
     "name": "stdout",
     "output_type": "stream",
     "text": [
      "Biosphere database already present!!! No setup is needed\n"
     ]
    }
   ],
   "source": [
    "# Biosphere\n",
    "bi.bw2setup()\n",
    "bio = bd.Database(\"biosphere3\")"
   ]
  },
  {
   "cell_type": "code",
   "execution_count": null,
   "id": "829bf4f0",
   "metadata": {},
   "outputs": [
    {
     "name": "stdout",
     "output_type": "stream",
     "text": [
      "Extracted 17550 unallocated datasets in 80.53 seconds\n",
      "Applying strategy: normalize_units\n",
      "Applying strategy: update_ecoinvent_locations\n",
      "Applying strategy: assign_only_product_as_production\n",
      "Applying strategy: drop_unspecified_subcategories\n",
      "Applying strategy: sp_allocate_products\n",
      "Applying strategy: fix_zero_allocation_products\n",
      "Applying strategy: split_simapro_name_geo\n",
      "Applying strategy: strip_biosphere_exc_locations\n",
      "Applying strategy: migrate_datasets\n",
      "Applying strategy: migrate_exchanges\n",
      "Applying strategy: set_code_by_activity_hash\n",
      "Applying strategy: link_technosphere_based_on_name_unit_location\n"
     ]
    }
   ],
   "source": [
    "af_path = \"Data/agribalyse_31_unit.csv\"\n",
    "af_name = \"agribalyse 3.1\"\n",
    "af = bi.SimaProCSVImporter(\n",
    "    filepath=af_path,\n",
    "    name=af_name,\n",
    "    delimiter=\",\",\n",
    ")\n",
    "\n",
    "af.apply_strategies()\n",
    "af.match_database(\"biosphere3\", fields=(\"name\", \"unit\", \"categories\"))\n",
    "af.statistics()"
   ]
  },
  {
   "cell_type": "markdown",
   "id": "18bd2e26",
   "metadata": {},
   "source": [
    "# Strategies and migrations"
   ]
  },
  {
   "cell_type": "code",
   "execution_count": null,
   "id": "1574367c-d6d0-4508-b30e-00b6cd88b262",
   "metadata": {},
   "outputs": [],
   "source": [
    "migration_name = \"agrifootprint-6-names\"\n",
    "bi.Migration(migration_name).write(\n",
    "    json.load(open(\"Data/migrations/agrifootprint-6-economic.json\")),\n",
    "    \"Change names of agrifootprint activities\",\n",
    ")\n",
    "af.migrate(migration_name)"
   ]
  },
  {
   "cell_type": "code",
   "execution_count": null,
   "id": "25985c61",
   "metadata": {},
   "outputs": [],
   "source": [
    "af.apply_strategies()\n",
    "af = apply_agro_strategies(af)\n",
    "af.match_database(\"biosphere3\", fields=(\"name\", \"unit\", \"categories\"))\n",
    "af.statistics()"
   ]
  },
  {
   "cell_type": "markdown",
   "id": "9b322970",
   "metadata": {},
   "source": [
    "# Agribalyse specific"
   ]
  },
  {
   "cell_type": "code",
   "execution_count": null,
   "id": "ede00993",
   "metadata": {},
   "outputs": [],
   "source": [
    "migration_name = \"soil-categories\"\n",
    "bi.Migration(migration_name).write(\n",
    "    json.load(open(\"Data/migrations/soil-categories.json\")),\n",
    "    \"Change soil categories\",\n",
    ")\n",
    "af.migrate(migration_name)\n",
    "af.match_database(\"biosphere3\", fields=(\"name\", \"unit\", \"categories\"))\n",
    "af.statistics()"
   ]
  },
  {
   "cell_type": "code",
   "execution_count": null,
   "id": "5301b8b4",
   "metadata": {},
   "outputs": [],
   "source": [
    "[act for act in bio if \"Pirimicarb\" in act['name']]"
   ]
  },
  {
   "cell_type": "code",
   "execution_count": null,
   "id": "e5a396ad",
   "metadata": {},
   "outputs": [],
   "source": []
  },
  {
   "cell_type": "code",
   "execution_count": null,
   "id": "5b3c9912",
   "metadata": {},
   "outputs": [],
   "source": []
  },
  {
   "cell_type": "markdown",
   "id": "fb8ebd6a",
   "metadata": {},
   "source": [
    "# Write biosphere database\n",
    "\n",
    "Once you reach the point when you cannot link any more biosphere exchanges, and the remaining biosphere activities should just form a new database, then you need to write it as follows:"
   ]
  },
  {
   "cell_type": "code",
   "execution_count": null,
   "id": "2fba582c",
   "metadata": {},
   "outputs": [],
   "source": [
    "ag_bio_name = \"agrifootprint biosphere\"\n",
    "try:\n",
    "    del bd.databases[ag_bio_name]\n",
    "except:\n",
    "    pass\n",
    "#af.create_new_biosphere(ag_bio_name)\n",
    "bd.Database(ag_bio_name).register()\n",
    "af.add_unlinked_flows_to_biosphere_database(ag_bio_name)"
   ]
  },
  {
   "cell_type": "markdown",
   "id": "742d0c8d",
   "metadata": {},
   "source": [
    "# Write agrifootprint technosphere database\n",
    "\n",
    "Finally, write technosphere database"
   ]
  },
  {
   "cell_type": "code",
   "execution_count": null,
   "id": "8fa5a0f6-ff84-47e0-9865-972c7617b765",
   "metadata": {},
   "outputs": [],
   "source": [
    "af.drop_unlinked(i_am_reckless=True)"
   ]
  },
  {
   "cell_type": "code",
   "execution_count": null,
   "id": "b909f3a2",
   "metadata": {},
   "outputs": [],
   "source": [
    "#af.add_unlinked_activities()\n",
    "af.statistics()"
   ]
  },
  {
   "cell_type": "code",
   "execution_count": null,
   "id": "8f852c63",
   "metadata": {},
   "outputs": [],
   "source": [
    "# After you deal with the substitution exchanges, you should be able to write the database:\n",
    "ag_bio_name = \"agrifootprint 6 economic\"\n",
    "try:\n",
    "    del bd.databases[ag_bio_name]\n",
    "except:\n",
    "    pass\n",
    "af.write_database()"
   ]
  },
  {
   "cell_type": "markdown",
   "id": "0cf8ac11",
   "metadata": {},
   "source": [
    "# In case you want to share this bw project with others"
   ]
  },
  {
   "cell_type": "code",
   "execution_count": null,
   "id": "0dcba77b",
   "metadata": {},
   "outputs": [],
   "source": [
    "bi.backup_project_directory(project)"
   ]
  },
  {
   "cell_type": "code",
   "execution_count": null,
   "id": "02a6405d",
   "metadata": {},
   "outputs": [],
   "source": [
    "# The created file is saved in your home directory. Other ppl can use it by running:\n",
    "bi.restore_project_directory(\"give project path\")\n",
    "bd.projects.set_current(project)"
   ]
  },
  {
   "cell_type": "markdown",
   "id": "642ce0be-238e-4226-8251-89cab52511ad",
   "metadata": {},
   "source": [
    "# LCIA"
   ]
  },
  {
   "cell_type": "code",
   "execution_count": null,
   "id": "621f546a-3137-46dc-a5f1-a84346236f2d",
   "metadata": {},
   "outputs": [],
   "source": [
    "afdb = bd.Database('agrifootprint 6 economic')"
   ]
  },
  {
   "cell_type": "code",
   "execution_count": null,
   "id": "ea3ccdd6-1f19-4e63-b7fe-bb85de09da2d",
   "metadata": {},
   "outputs": [],
   "source": [
    "len(afdb)"
   ]
  },
  {
   "cell_type": "code",
   "execution_count": null,
   "id": "af0977d5-08db-448b-9523-374229ad965c",
   "metadata": {},
   "outputs": [],
   "source": [
    "product_list = [act for act in afdb if 'Barley' in act['name']\n",
    "                    and 'AR' in act['name']\n",
    "                    and 'at farm' in act['name']\n",
    "]\n",
    "product_list"
   ]
  },
  {
   "cell_type": "code",
   "execution_count": null,
   "id": "91c19b91-181e-4eb7-86f3-bdb4e1dddcb1",
   "metadata": {
    "tags": []
   },
   "outputs": [],
   "source": [
    "method_list = []\n",
    "for method in bd.methods:\n",
    "    if 'EF v3.0' in method and \"global warming potential (GWP100)\" in method:\n",
    "        method_list.append(method)\n"
   ]
  },
  {
   "cell_type": "code",
   "execution_count": null,
   "id": "4098b7f1-a3b6-47ed-a08c-dacccd63abca",
   "metadata": {},
   "outputs": [],
   "source": [
    "for product in product_list:\n",
    "    for lcia_method in method_list:\n",
    "        lca = bc.LCA({product: 1}, method=lcia_method)\n",
    "        lca.lci()\n",
    "        lca.lcia()\n",
    "        print(product, lcia_method[1],lca.score)"
   ]
  }
 ],
 "metadata": {
  "kernelspec": {
   "display_name": "Python 3 (ipykernel)",
   "language": "python",
   "name": "python3"
  },
  "language_info": {
   "codemirror_mode": {
    "name": "ipython",
    "version": 3
   },
   "file_extension": ".py",
   "mimetype": "text/x-python",
   "name": "python",
   "nbconvert_exporter": "python",
   "pygments_lexer": "ipython3",
   "version": "3.10.6"
  }
 },
 "nbformat": 4,
 "nbformat_minor": 5
}
