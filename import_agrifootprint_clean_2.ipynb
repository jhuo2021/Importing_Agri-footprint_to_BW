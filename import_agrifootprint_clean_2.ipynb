{
 "cells": [
  {
   "cell_type": "code",
   "execution_count": 1,
   "id": "43d22161",
   "metadata": {},
   "outputs": [],
   "source": [
    "import bw2data as bd\n",
    "import bw2io as bi\n",
    "import bw2calc as bc\n",
    "import json\n",
    "import re\n",
    "import pandas as pd\n",
    "\n",
    "project = \"import agrifootprint\"\n",
    "bd.projects.set_current(project)"
   ]
  },
  {
   "cell_type": "code",
   "execution_count": 2,
   "id": "a1aee5fd",
   "metadata": {
    "scrolled": true
   },
   "outputs": [
    {
     "name": "stdout",
     "output_type": "stream",
     "text": [
      "Biosphere database already present!!! No setup is needed\n"
     ]
    }
   ],
   "source": [
    "# Biosphere\n",
    "bi.bw2setup()\n",
    "bio = bd.Database(\"biosphere3\")"
   ]
  },
  {
   "cell_type": "code",
   "execution_count": 36,
   "id": "96b418ac-a3d3-49a7-96c1-3f1723fb042c",
   "metadata": {},
   "outputs": [],
   "source": [
    "def add_location(db):\n",
    "    location_pattern = r\"\\{(.*?)\\}\"\n",
    "    for act in af.data:\n",
    "        for exc in act.get('exchanges'):\n",
    "            if exc.get('location') is None:\n",
    "                match = re.findall(pattern=location_pattern, string=exc['name'])\n",
    "                try:\n",
    "                    exc['location'] = match[0]\n",
    "                    if exc.get('type') == \"production\":\n",
    "                        act['location'] = match[0]\n",
    "                except:\n",
    "                    pass\n",
    "    return db"
   ]
  },
  {
   "cell_type": "code",
   "execution_count": 3,
   "id": "8de18eaa-5bea-432c-a78a-1f59d2220ba6",
   "metadata": {},
   "outputs": [],
   "source": [
    "# Technosphere, add location to electricity and heat\n",
    "def add_location_energy_acts(db):\n",
    "    location_pattern = r\"\\{(.*?)\\}\"\n",
    "    for act in af.data:\n",
    "        for exc in act.get('exchanges'):\n",
    "            if (\n",
    "                (\"Electricity, low voltage\" in exc.get('name')\n",
    "                 or \"Heat\" in exc.get('name'))\n",
    "                and \"ecoinvent\" in exc.get('name')\n",
    "                and exc.get('location') is None\n",
    "            ):\n",
    "                match = re.findall(pattern=location_pattern, string=exc['name'])\n",
    "                exc['location'] = match[0]\n",
    "                if exc.get('type') == \"production\":\n",
    "                    act['location'] = match[0]\n",
    "    return db"
   ]
  },
  {
   "cell_type": "code",
   "execution_count": 37,
   "id": "829bf4f0",
   "metadata": {},
   "outputs": [
    {
     "name": "stdout",
     "output_type": "stream",
     "text": [
      "Extracted 3771 unallocated datasets in 13.82 seconds\n",
      "Applying strategy: normalize_units\n",
      "Applying strategy: update_ecoinvent_locations\n",
      "Applying strategy: assign_only_product_as_production\n",
      "Applying strategy: drop_unspecified_subcategories\n",
      "Applying strategy: sp_allocate_products\n",
      "Applying strategy: fix_zero_allocation_products\n",
      "Applying strategy: split_simapro_name_geo\n",
      "Applying strategy: strip_biosphere_exc_locations\n",
      "Applying strategy: migrate_datasets\n",
      "Applying strategy: migrate_exchanges\n",
      "Applying strategy: set_code_by_activity_hash\n",
      "Applying strategy: link_technosphere_based_on_name_unit_location\n",
      "Applying strategy: change_electricity_unit_mj_to_kwh\n",
      "Applying strategy: set_lognormal_loc_value_uncertainty_safe\n",
      "Applying strategy: normalize_biosphere_categories\n",
      "Applying strategy: normalize_simapro_biosphere_categories\n",
      "Applying strategy: normalize_biosphere_names\n",
      "Applying strategy: normalize_simapro_biosphere_names\n",
      "Applying strategy: migrate_exchanges\n",
      "Applying strategy: fix_localized_water_flows\n",
      "Applying strategy: link_iterable_by_fields\n",
      "Applying strategy: convert_activity_parameters_to_list\n",
      "Applied 22 strategies in 13.21 seconds\n",
      "Applying strategy: link_iterable_by_fields\n",
      "4841 datasets\n",
      "456120 exchanges\n",
      "59149 unlinked exchanges\n",
      "  Type biosphere: 1503 unique unlinked exchanges\n",
      "  Type substitution: 2 unique unlinked exchanges\n",
      "  Type technosphere: 117 unique unlinked exchanges\n"
     ]
    },
    {
     "data": {
      "text/plain": [
       "(4841, 456120, 59149)"
      ]
     },
     "execution_count": 37,
     "metadata": {},
     "output_type": "execute_result"
    }
   ],
   "source": [
    "# Agrifootprint\n",
    "# af_path = \"Data/Agrifootprint6_economic.csv\"\n",
    "af_path = \"Data/Agrifootprint6_economic.csv\"\n",
    "af_name = \"agrifootprint 6 economic\"\n",
    "af = bi.SimaProCSVImporter(\n",
    "    filepath=af_path,\n",
    "    name=af_name,\n",
    "    delimiter=\",\",\n",
    ")\n",
    "#af = add_location_energy_acts(af)\n",
    "af = add_location(af)\n",
    "\n",
    "af.apply_strategies()\n",
    "af.match_database(\"biosphere3\", fields=(\"name\", \"unit\", \"categories\"))\n",
    "#af.match_database()\n",
    "af.statistics()"
   ]
  },
  {
   "cell_type": "markdown",
   "id": "18bd2e26",
   "metadata": {},
   "source": [
    "# strategies and migrations\n",
    "\n",
    "Strategies are just functions that modify your database data. They are used when you can define rules or some kind of steps on how to modify exchange names, categories, etc so that the exchanges can be linked to existing databases. The stategies can be applied to a bunch of exchanges that need the same fix."
   ]
  },
  {
   "cell_type": "code",
   "execution_count": 5,
   "id": "c9b17cd3",
   "metadata": {
    "tags": []
   },
   "outputs": [],
   "source": [
    "# Change names to contain \"in ground\"\n",
    "def change_in_ground_acts(db):\n",
    "    for act in db.data:\n",
    "        for exc in act.get('exchanges'):\n",
    "            if (\n",
    "                exc.get('type') == 'biosphere'\n",
    "                and \"in ground\" in exc.get('categories')\n",
    "                and \" \" not in exc.get('name')\n",
    "                and \"in ground\" not in exc.get('name')\n",
    "            ):\n",
    "                exc['name'] += \", in ground\" \n",
    "    return db"
   ]
  },
  {
   "cell_type": "code",
   "execution_count": 6,
   "id": "6faf0076-fad4-4238-9262-c50794b6d168",
   "metadata": {},
   "outputs": [],
   "source": [
    "# add \"in ground\" to cagegories\n",
    "def change_in_ground_categories_acts(db):\n",
    "    for act in db.data:\n",
    "        for exc in act.get('exchanges'):\n",
    "            if (\n",
    "                exc.get('type') == 'biosphere'\n",
    "                and \"in ground\" in exc.get('name')\n",
    "                and ('natural resource', ) == exc.get('categories')\n",
    "            ):\n",
    "                exc['categories'] = ('natural resource', 'in ground')\n",
    "    return db"
   ]
  },
  {
   "cell_type": "code",
   "execution_count": 7,
   "id": "fddd95e7-9eee-4680-89cd-099d1b350616",
   "metadata": {
    "tags": []
   },
   "outputs": [],
   "source": [
    "# change names of unlinked containing \"water\"\n",
    "def change_water_acts(db):\n",
    "    for act in db.data:\n",
    "        for exc in act.get('exchanges'):\n",
    "            if exc.get('type') == 'biosphere' and \"Water, \" in exc.get('name'):\n",
    "                x = exc['name'].split(\", \")\n",
    "                exc_name = f\"{x[0]}, {x[1]}\" \n",
    "                if \"Water, cooling\" in exc_name:\n",
    "                    exc['name'] = 'Water, cooling, unspecified natural origin'\n",
    "                    exc['categories'] = ('natural resource', 'in water')\n",
    "                    if exc['unit'] == \"kilogram\":\n",
    "                        exc['amount'] /= 1000\n",
    "                        exc['unit'] = 'cubic meter'\n",
    "                elif \"Water, turbine use\" in exc_name:\n",
    "                    exc['name'] = 'Water, turbine use, unspecified natural origin'\n",
    "                    exc['categories'] = ('natural resource', 'in water')\n",
    "                elif \"Water, river\" in exc_name or \"Water, lake\" in exc_name:\n",
    "                    exc['name'] = exc_name\n",
    "                    exc['categories'] = ('natural resource', 'in water')    \n",
    "                elif \"Water, well\" in exc_name:\n",
    "                    exc['name'] = 'Water, well, in ground'\n",
    "                    exc['categories'] = ('natural resource', 'in water')\n",
    "                elif \"Water, salt\" in exc_name:\n",
    "                    exc['name'] = 'Water, salt, ocean'\n",
    "                    exc['categories'] = ('natural resource', 'in water')\n",
    "                elif exc_name in ['Water, BR-Mid-western grid', \n",
    "                                  'Water, BR-South-eastern grid',\n",
    "                                  'Water, Europe without Austria',\n",
    "                                  'Water, Europe without Switzerland and Austria',\n",
    "                                  'Water, RER w/o RU',\n",
    "                                  'Water, unspecified natural origin',\n",
    "                                  'Water, fresh']:\n",
    "                    exc['name'] = 'Water, unspecified natural origin'\n",
    "                    exc['categories'] = ('natural resource', 'in water')\n",
    "                    if exc['unit'] == \"litre\":\n",
    "                        exc['amount'] /= 1000\n",
    "                        exc['unit'] = 'cubic meter'\n",
    "    return db"
   ]
  },
  {
   "cell_type": "code",
   "execution_count": 8,
   "id": "403591f4-64ba-4edf-bee8-51a9dfb10255",
   "metadata": {},
   "outputs": [],
   "source": [
    "# change names of unlinked containing \"nitrogen\"\n",
    "def change_nitrogen_acts(db):\n",
    "    for act in db.data:\n",
    "        for exc in act.get('exchanges'):\n",
    "            if exc.get('type') == 'biosphere':\n",
    "                if (\n",
    "                    \"Nitrogen, atmospheric\" in exc.get('name')\n",
    "                    or \"Nitrogen, total\" in exc.get('name')\n",
    "                ):\n",
    "                    exc['name'] = \"Nitrogen\" \n",
    "                elif (\n",
    "                    \"Nitrogen dioxide\" in exc.get('name')\n",
    "                    and exc.get('categories') == ('water', 'ground-')\n",
    "                ):\n",
    "                    exc['name'] = \"Nitrogen dioxide\" \n",
    "                    exc['categories'] = ('water', 'surface water')\n",
    "                elif (\n",
    "                    \"Nitrogen monoxide\" in exc.get('name')\n",
    "                    or \"Nitrogen oxides\" in exc.get('name')\n",
    "                    or \"Nitrogen dioxide\" in exc.get('name')\n",
    "                ):\n",
    "                    exc['name'] = \"Nitrogen oxides\" \n",
    "                elif (\n",
    "                    \"Nitrogen, NO\" in exc.get('name')\n",
    "                    or \"Nitrogenous Matter (unspecified, as N)\" in exc.get('name')\n",
    "                ):\n",
    "                    exc['name'] = \"Nitrogen\" \n",
    "    return db"
   ]
  },
  {
   "cell_type": "code",
   "execution_count": 9,
   "id": "f84808f4-17e5-48f9-8099-f995fdc8adfe",
   "metadata": {
    "tags": []
   },
   "outputs": [],
   "source": [
    "# Change names to contain \"NMVOC\"\n",
    "def change_NMVOC_acts(db):\n",
    "    for act in db.data:\n",
    "        for exc in act.get('exchanges'):\n",
    "            exc_name = exc.get('name')\n",
    "            if (\n",
    "                exc.get('type') == 'biosphere'\n",
    "                and \"NMVOC\" in exc_name\n",
    "                and \", unspecified origin\" not in exc_name\n",
    "            ):\n",
    "                exc['name'] += \", unspecified origin\" \n",
    "    return db"
   ]
  },
  {
   "cell_type": "code",
   "execution_count": 10,
   "id": "fef80d60-0cc1-4abd-bb65-16abf2388c47",
   "metadata": {
    "tags": []
   },
   "outputs": [],
   "source": [
    "# remove locations\n",
    "def change_remove_location_acts(db):\n",
    "    for act in db.data:\n",
    "        for exc in act.get('exchanges'):\n",
    "            exc_name = exc.get('name')\n",
    "            if (\n",
    "                exc.get('type') == 'biosphere'\n",
    "                and ',' in exc_name\n",
    "                and ('Ammonia' in exc_name\n",
    "                or 'Nitrate' in exc_name\n",
    "                or 'Phosphorus' in exc_name\n",
    "                or 'Sulfur dioxide' in exc_name)\n",
    "            ):\n",
    "                x = exc_name.split(\", \")\n",
    "                exc['name'] = x[0]\n",
    "    return db\n"
   ]
  },
  {
   "cell_type": "code",
   "execution_count": 11,
   "id": "52d9e906-ca0a-4d20-8baf-1e1d4739e984",
   "metadata": {
    "tags": []
   },
   "outputs": [],
   "source": [
    "# rename PMs\n",
    "def change_PM_acts(db):\n",
    "    for act in db.data:\n",
    "        for exc in act.get('exchanges'):\n",
    "            exc_name = exc.get('name')\n",
    "            if (\n",
    "                exc.get('type') == 'biosphere'\n",
    "                and exc_name in ['Particulates, < 10 um', 'Particulates, SPM', 'Particulates, unspecified']\n",
    "            ):\n",
    "                exc['name'] = 'Particulates, > 2.5 um, and < 10um'\n",
    "    return db\n"
   ]
  },
  {
   "cell_type": "code",
   "execution_count": 12,
   "id": "23794404-9dfd-4f9e-8f3e-2b9b76831bab",
   "metadata": {
    "tags": []
   },
   "outputs": [],
   "source": [
    "# remove peat oxidation\n",
    "def change_remove_peat_acts(db):\n",
    "    for act in db.data:\n",
    "        for exc in act.get('exchanges'):\n",
    "            exc_name = exc.get('name')\n",
    "            if (\n",
    "                exc.get('type') == 'biosphere'\n",
    "                and ', peat oxidation' in exc.get('name')\n",
    "            ):\n",
    "                x = exc_name.split(\", \")\n",
    "                exc['name'] = x[0]\n",
    "    return db"
   ]
  },
  {
   "cell_type": "code",
   "execution_count": 13,
   "id": "c27e6143-6804-480a-b7d4-0c7ae6cfa761",
   "metadata": {
    "tags": []
   },
   "outputs": [],
   "source": [
    "# LUC\n",
    "def change_LUC_acts(db):\n",
    "    for act in db.data:\n",
    "        for exc in act.get('exchanges'):\n",
    "            exc_name = exc.get('name')\n",
    "            if exc.get('type') == 'biosphere':\n",
    "                if (\n",
    "                    'land' not in exc.get('categories')\n",
    "                    and ('Transformation,' in exc.get('name')\n",
    "                    or 'Occupation,' in exc.get('name'))\n",
    "                ):\n",
    "                    exc['categories'] = ('natural resource', 'land')\n",
    "                if (\n",
    "                    'Transformation, to annual crop' in exc_name\n",
    "                    or 'Transformation, to permanent crop' in exc_name\n",
    "                    or 'Transformation, to grassland/pasture/meadow' in exc_name\n",
    "                    or 'Transformation, from annual crop' in exc_name\n",
    "                    or 'Transformation, from permanent crop' in exc_name\n",
    "                    or 'Transformation, from grassland/pasture/meadow' in exc_name\n",
    "                    or 'Occupation, permanent crop' in exc_name\n",
    "                    or 'Occupation, annual crop' in exc_name\n",
    "                    or 'Occupation, grassland/pasture/meadow' in exc_name\n",
    "                ):\n",
    "                    x = exc_name.split(\", \")\n",
    "                    exc['name'] = f\"{x[0]}, {x[1]}\"\n",
    "                elif 'Transformation, from forest, extensive' in exc_name:\n",
    "                    x = exc_name.split(\", \")\n",
    "                    exc['name'] = f\"{x[0]}, {x[1]}, {x[2]}\"\n",
    "    return db\n"
   ]
  },
  {
   "cell_type": "code",
   "execution_count": 14,
   "id": "3a879e4e-36a3-400e-af8b-afeb7668140d",
   "metadata": {
    "tags": []
   },
   "outputs": [],
   "source": [
    "# energy\n",
    "def change_energy_acts(db):\n",
    "    for act in db.data:\n",
    "        for exc in act.get('exchanges'):\n",
    "            exc_name = exc.get('name')\n",
    "            if exc.get('type') == 'biosphere':\n",
    "                if (\n",
    "                    'Energy, potential (in hydropower reservoir), converted' == exc_name\n",
    "                    or 'Energy, from hydro power' == exc_name\n",
    "                ):\n",
    "                    exc['categories'] = ('natural resource', 'in water')\n",
    "                    exc['name'] = 'Energy, potential (in hydropower reservoir), converted'\n",
    "                elif 'Energy, from biomass' == exc_name:   \n",
    "                    exc['categories'] = ('natural resource', 'biotic')\n",
    "                    exc['name'] = 'Energy, gross calorific value, in biomass'\n",
    "                elif 'Energy, from wood' == exc_name:   \n",
    "                    exc['categories'] = ('natural resource', 'biotic')\n",
    "                    exc['name'] = 'Energy, gross calorific value, in biomass, primary forest'\n",
    "    return db"
   ]
  },
  {
   "cell_type": "code",
   "execution_count": 15,
   "id": "3ffebd62-7938-47cd-89cc-b194a9ff360f",
   "metadata": {},
   "outputs": [],
   "source": [
    "# add elements to categories\n",
    "soil_agri_list = [act['name'] for act in bio if \"agricultural\" in act['categories']]\n",
    "soil_list = [act['name'] for act in bio if ('soil', ) == act['categories']]\n",
    "soil_check_list = [x for x in soil_agri_list if x not in soil_list]\n",
    "water_surface_list = [act['name'] for act in bio if \"surface water\" in act['categories']]\n",
    "water_list = [act['name'] for act in bio if ('water', ) == act['categories']]\n",
    "water_check_list = [x for x in water_surface_list if x not in water_list]\n",
    "air_high_list = [act['name'] for act in bio if \"non-urban air or from high stacks\" in act['categories']]\n",
    "air_list = [act['name'] for act in bio if ('air', ) == act['categories']]\n",
    "air_check_list = [x for x in air_high_list if x not in air_list]\n",
    "\n",
    "def change_add_elements_categories_acts(db):\n",
    "    for act in db.data:\n",
    "        for exc in act.get('exchanges'):\n",
    "            if exc.get('type') == 'biosphere':\n",
    "                if (\n",
    "                    ('soil',) == exc.get('categories')\n",
    "                    and exc.get('name') in soil_check_list\n",
    "                ):\n",
    "                    exc['categories'] = ('soil', 'agricultural')\n",
    "                elif (\n",
    "                    ('water',) == exc.get('categories')\n",
    "                    and exc.get('name') in water_check_list\n",
    "                ):\n",
    "                    exc['categories'] = ('water', 'surface water')\n",
    "                elif (\n",
    "                    ('air',) == exc.get('categories')\n",
    "                    and exc.get('name') in air_check_list\n",
    "                ):\n",
    "                    exc['categories'] = ('air', 'non-urban air or from high stacks')\n",
    "    return db"
   ]
  },
  {
   "cell_type": "code",
   "execution_count": 16,
   "id": "a27cb1d5-4b09-4c14-af3f-edd26a303cef",
   "metadata": {
    "tags": []
   },
   "outputs": [],
   "source": [
    "def change_categories_acts(db):\n",
    "    for act in db.data:\n",
    "        for exc in act.get('exchanges'):\n",
    "            if exc.get('type') == 'biosphere':\n",
    "                if (\n",
    "                    'Magnesium, 0.13% in water' == exc.get('name')\n",
    "                    and ('natural resource', 'in ground') == exc.get('categories')\n",
    "                ):\n",
    "                    exc['categories'] = ('natural resource', 'in water')\n",
    "                elif (\n",
    "                    'Wood, soft, standing' == exc.get('name')\n",
    "                    and ('natural resource', 'in ground') == exc.get('categories')\n",
    "                ):\n",
    "                    exc['categories'] = ('natural resource', 'biotic')\n",
    "                elif (\n",
    "                    'Fish' in exc.get('name')\n",
    "                    and ('natural resource', 'in water') == exc.get('categories')\n",
    "                ):\n",
    "                    exc['categories'] = ('natural resource', 'biotic')\n",
    "                elif (\n",
    "                    'Methane' == exc.get('name')\n",
    "                    and ('air', ) == exc.get('categories')\n",
    "                ):\n",
    "                    exc['categories'] = ('air', 'urban air close to ground')\n",
    "                elif (\n",
    "                    'Phosphorus' == exc.get('name')\n",
    "                    and ('natural resource', ) == exc.get('categories')\n",
    "                ):\n",
    "                    exc['categories'] = ('natural resource', 'in ground')\n",
    "                    exc['name'] = 'Phosphorus, in ground'\n",
    "                elif (\n",
    "                    'Pyraclostrobin (prop)' == exc.get('name')\n",
    "                    and 'water' in exc.get('categories')\n",
    "                ):\n",
    "                    exc['name'] = 'Pyraclostrobin'\n",
    "                elif (\n",
    "                    'Sylvite, 25 % in sylvinite, in ground' == exc.get('name')\n",
    "                    and ('natural resource',) == exc.get('categories')\n",
    "                ):\n",
    "                    exc['categories'] = ('natural resource', 'in ground')\n",
    "                elif (\n",
    "                    'Hydrochloric acid' == exc.get('name')\n",
    "                    and 'water' in exc.get('categories')\n",
    "                ):\n",
    "                    exc['categories'] = ('water', )\n",
    "                elif (\n",
    "                    exc.get('name') in ['Nitrate', 'Chlorine', 'PAH, polycyclic aromatic hydrocarbons',\n",
    "                                       'Sulfate']\n",
    "                    and 'soil' in exc.get('categories')\n",
    "                ):\n",
    "                    exc['categories'] = ('soil', )\n",
    "                elif (\n",
    "                    exc.get('name') in ['Azoxystrobin', 'Metribuzin', 'Diquat dibromide', \n",
    "                                        'Chlorpyrifos', 'Imidacloprid']\n",
    "                    and 'water' in exc.get('categories')\n",
    "                ):\n",
    "                    exc['categories'] = ('water', 'ground-')\n",
    "                    \n",
    "    return db"
   ]
  },
  {
   "cell_type": "code",
   "execution_count": 17,
   "id": "6f6940c7-0ced-4a39-882f-3c761da889db",
   "metadata": {},
   "outputs": [],
   "source": [
    "# Change avoided products to inputs from technosphere\n",
    "def change_substitution_acts(db):\n",
    "    for act in db.data:\n",
    "        for exc in act.get('exchanges'):\n",
    "            if exc.get('type') == 'substitution':\n",
    "                exc['type'] = 'technosphere'\n",
    "                exc['amount'] *= -1\n",
    "                exc['loc'] *= -1\n",
    "    return db"
   ]
  },
  {
   "cell_type": "code",
   "execution_count": 18,
   "id": "0fb2fbdc-ae4e-4a78-9bde-b1ee47e10cce",
   "metadata": {},
   "outputs": [],
   "source": [
    "# Technosphere, change units\n",
    "def change_unit_acts(db):\n",
    "    for act in af.data:\n",
    "        for exc in act.get('exchanges'):\n",
    "            if (\n",
    "                \"Heat\" in exc.get('name')\n",
    "                and \"ecoinvent\" in exc.get('name')\n",
    "                and \"kilowatt hour\" == exc.get('unit')\n",
    "                and exc.get('input') is None\n",
    "            ):\n",
    "                exc['unit'] = \"megajoule\"\n",
    "                exc['amount'] *= 3.6\n",
    "                exc['loc'] *= 3.6\n",
    "            elif (\n",
    "                'Wastewater, average {RoW}' in exc.get('name')\n",
    "                and 'litre' == exc.get('unit')\n",
    "            ):\n",
    "                exc['unit'] = \"cubic meter\"\n",
    "                exc['amount'] *= 0.001\n",
    "                exc['loc'] *= 0.001\n",
    "    return db"
   ]
  },
  {
   "cell_type": "code",
   "execution_count": 19,
   "id": "de365446-fdaa-418d-a690-db4baa88cef2",
   "metadata": {
    "tags": []
   },
   "outputs": [],
   "source": [
    "def allocation(db):\n",
    "    for act in af.data:\n",
    "        allocation = [exc.get('allocation') for exc in act.get('exchanges') if exc.get('type')=='production'][0]\n",
    "        if allocation != 100 and allocation is not None:\n",
    "            for exc in act.get('exchanges'):\n",
    "                if exc.get('type') != 'production':\n",
    "                    exc['amount'] *= allocation/100\n",
    "                    exc['loc'] *= allocation/100\n",
    "    return db"
   ]
  },
  {
   "cell_type": "code",
   "execution_count": 20,
   "id": "1574367c-d6d0-4508-b30e-00b6cd88b262",
   "metadata": {},
   "outputs": [],
   "source": [
    "migration_name = \"agrifootprint-6-names\"\n",
    "bi.Migration(migration_name).write(\n",
    "    json.load(open(\"Data/agrifootprint-6-economic.json\")),\n",
    "    \"Change names of agrifootprint activities\",\n",
    ")"
   ]
  },
  {
   "cell_type": "code",
   "execution_count": 38,
   "id": "25985c61",
   "metadata": {},
   "outputs": [
    {
     "name": "stdout",
     "output_type": "stream",
     "text": [
      "Applying strategy: migrate_datasets\n",
      "Applying strategy: migrate_exchanges\n",
      "Applying strategy: migrate_datasets\n",
      "Applying strategy: migrate_exchanges\n",
      "Applying strategy: normalize_units\n",
      "Applying strategy: update_ecoinvent_locations\n",
      "Applying strategy: assign_only_product_as_production\n",
      "Applying strategy: drop_unspecified_subcategories\n",
      "Applying strategy: sp_allocate_products\n",
      "Applying strategy: fix_zero_allocation_products\n",
      "Applying strategy: split_simapro_name_geo\n",
      "Applying strategy: strip_biosphere_exc_locations\n",
      "Applying strategy: migrate_datasets\n",
      "Applying strategy: migrate_exchanges\n",
      "Applying strategy: set_code_by_activity_hash\n",
      "Applying strategy: link_technosphere_based_on_name_unit_location\n",
      "Applying strategy: change_electricity_unit_mj_to_kwh\n",
      "Applying strategy: set_lognormal_loc_value_uncertainty_safe\n",
      "Applying strategy: normalize_biosphere_categories\n",
      "Applying strategy: normalize_simapro_biosphere_categories\n",
      "Applying strategy: normalize_biosphere_names\n",
      "Applying strategy: normalize_simapro_biosphere_names\n",
      "Applying strategy: migrate_exchanges\n",
      "Applying strategy: fix_localized_water_flows\n",
      "Applying strategy: link_iterable_by_fields\n",
      "Applying strategy: convert_activity_parameters_to_list\n",
      "Applied 22 strategies in 9.80 seconds\n",
      "Applying strategy: link_iterable_by_fields\n",
      "4841 datasets\n",
      "456120 exchanges\n",
      "7642 unlinked exchanges\n",
      "  Type biosphere: 387 unique unlinked exchanges\n",
      "  Type technosphere: 26 unique unlinked exchanges\n"
     ]
    },
    {
     "data": {
      "text/plain": [
       "(4841, 456120, 7642)"
      ]
     },
     "execution_count": 38,
     "metadata": {},
     "output_type": "execute_result"
    }
   ],
   "source": [
    "af.migrate(migration_name)\n",
    "af = change_in_ground_acts(af)\n",
    "af = change_in_ground_categories_acts(af)\n",
    "af = change_water_acts(af)\n",
    "af = change_nitrogen_acts(af)\n",
    "af = change_NMVOC_acts(af)\n",
    "af = change_remove_location_acts(af)\n",
    "af = change_PM_acts(af)\n",
    "af = change_remove_peat_acts(af)\n",
    "af = change_LUC_acts(af)\n",
    "af = change_energy_acts(af)\n",
    "af = change_categories_acts(af)\n",
    "af = change_add_elements_categories_acts(af)\n",
    "af = change_substitution_acts(af)\n",
    "#af = add_location(af)\n",
    "af = change_unit_acts(af)\n",
    "af.migrate(migration_name)\n",
    "#af = allocation(af)\n",
    "af.apply_strategies()\n",
    "af.match_database(\"biosphere3\", fields=(\"name\", \"unit\", \"categories\"))\n",
    "af.statistics()"
   ]
  },
  {
   "cell_type": "markdown",
   "id": "fb8ebd6a",
   "metadata": {},
   "source": [
    "# Write biosphere database\n",
    "\n",
    "Once you reach the point when you cannot link any more biosphere exchanges, and the remaining biosphere activities should just form a new database, then you need to write it as follows:"
   ]
  },
  {
   "cell_type": "code",
   "execution_count": 39,
   "id": "2fba582c",
   "metadata": {},
   "outputs": [
    {
     "name": "stderr",
     "output_type": "stream",
     "text": [
      "Writing activities to SQLite3 database:\n",
      "0% [##############################] 100% | ETA: 00:00:00\n",
      "Total time elapsed: 00:00:00\n"
     ]
    },
    {
     "name": "stdout",
     "output_type": "stream",
     "text": [
      "Title: Writing activities to SQLite3 database:\n",
      "  Started: 12/13/2022 13:15:16\n",
      "  Finished: 12/13/2022 13:15:16\n",
      "  Total time elapsed: 00:00:00\n",
      "  CPU %: 80.10\n",
      "  Memory %: 6.13\n",
      "Applying strategy: link_iterable_by_fields\n"
     ]
    }
   ],
   "source": [
    "ag_bio_name = \"agrifootprint biosphere\"\n",
    "try:\n",
    "    del bd.databases[ag_bio_name]\n",
    "except:\n",
    "    pass\n",
    "#af.create_new_biosphere(ag_bio_name)\n",
    "bd.Database(ag_bio_name).register()\n",
    "af.add_unlinked_flows_to_biosphere_database(ag_bio_name)"
   ]
  },
  {
   "cell_type": "markdown",
   "id": "742d0c8d",
   "metadata": {},
   "source": [
    "# Write agrifootprint technosphere database\n",
    "\n",
    "Finally, write technosphere database"
   ]
  },
  {
   "cell_type": "code",
   "execution_count": 40,
   "id": "8fa5a0f6-ff84-47e0-9865-972c7617b765",
   "metadata": {},
   "outputs": [
    {
     "name": "stdout",
     "output_type": "stream",
     "text": [
      "Applying strategy: drop_unlinked\n",
      "Applied 1 strategies in 0.08 seconds\n"
     ]
    }
   ],
   "source": [
    "af.drop_unlinked(i_am_reckless=True)"
   ]
  },
  {
   "cell_type": "code",
   "execution_count": 41,
   "id": "b909f3a2",
   "metadata": {},
   "outputs": [
    {
     "name": "stdout",
     "output_type": "stream",
     "text": [
      "4841 datasets\n",
      "456051 exchanges\n",
      "0 unlinked exchanges\n",
      "  \n"
     ]
    },
    {
     "data": {
      "text/plain": [
       "(4841, 456051, 0)"
      ]
     },
     "execution_count": 41,
     "metadata": {},
     "output_type": "execute_result"
    }
   ],
   "source": [
    "#af.add_unlinked_activities()\n",
    "af.statistics()"
   ]
  },
  {
   "cell_type": "code",
   "execution_count": 42,
   "id": "8f852c63",
   "metadata": {},
   "outputs": [
    {
     "name": "stderr",
     "output_type": "stream",
     "text": [
      "Writing activities to SQLite3 database:\n"
     ]
    },
    {
     "name": "stdout",
     "output_type": "stream",
     "text": [
      "Vacuuming database \n"
     ]
    },
    {
     "name": "stderr",
     "output_type": "stream",
     "text": [
      "0% [##############################] 100% | ETA: 00:00:00\n",
      "Total time elapsed: 00:00:36\n"
     ]
    },
    {
     "name": "stdout",
     "output_type": "stream",
     "text": [
      "Title: Writing activities to SQLite3 database:\n",
      "  Started: 12/13/2022 13:15:54\n",
      "  Finished: 12/13/2022 13:16:30\n",
      "  Total time elapsed: 00:00:36\n",
      "  CPU %: 75.40\n",
      "  Memory %: 6.55\n",
      "Created database: agrifootprint 6 economic\n"
     ]
    },
    {
     "data": {
      "text/plain": [
       "Brightway2 SQLiteBackend: agrifootprint 6 economic"
      ]
     },
     "execution_count": 42,
     "metadata": {},
     "output_type": "execute_result"
    }
   ],
   "source": [
    "# After you deal with the substitution exchanges, you should be able to write the database:\n",
    "ag_bio_name = \"agrifootprint 6 economic\"\n",
    "try:\n",
    "    del bd.databases[ag_bio_name]\n",
    "except:\n",
    "    pass\n",
    "af.write_database()"
   ]
  },
  {
   "cell_type": "markdown",
   "id": "0cf8ac11",
   "metadata": {},
   "source": [
    "# In case you want to share this bw project with others"
   ]
  },
  {
   "cell_type": "code",
   "execution_count": 26,
   "id": "0dcba77b",
   "metadata": {},
   "outputs": [
    {
     "name": "stdout",
     "output_type": "stream",
     "text": [
      "Creating project backup archive - this could take a few minutes...\n"
     ]
    }
   ],
   "source": [
    "bi.backup_project_directory(project)"
   ]
  },
  {
   "cell_type": "code",
   "execution_count": null,
   "id": "02a6405d",
   "metadata": {},
   "outputs": [],
   "source": [
    "# The created file is saved in your home directory. Other ppl can use it by running:\n",
    "bi.restore_project_directory(\"give project path\")\n",
    "bd.projects.set_current(project)"
   ]
  },
  {
   "cell_type": "markdown",
   "id": "642ce0be-238e-4226-8251-89cab52511ad",
   "metadata": {},
   "source": [
    "# LCIA"
   ]
  },
  {
   "cell_type": "code",
   "execution_count": 43,
   "id": "621f546a-3137-46dc-a5f1-a84346236f2d",
   "metadata": {},
   "outputs": [],
   "source": [
    "afdb = bd.Database('agrifootprint 6 economic')"
   ]
  },
  {
   "cell_type": "code",
   "execution_count": 44,
   "id": "ea3ccdd6-1f19-4e63-b7fe-bb85de09da2d",
   "metadata": {},
   "outputs": [
    {
     "data": {
      "text/plain": [
       "4841"
      ]
     },
     "execution_count": 44,
     "metadata": {},
     "output_type": "execute_result"
    }
   ],
   "source": [
    "len(afdb)"
   ]
  },
  {
   "cell_type": "code",
   "execution_count": 45,
   "id": "af0977d5-08db-448b-9523-374229ad965c",
   "metadata": {},
   "outputs": [
    {
     "data": {
      "text/plain": [
       "['Barley straw, at farm {AR} Energy, U' (kilogram, AR, None),\n",
       " 'Barley grain, at farm {AR} Energy, U' (kilogram, AR, None)]"
      ]
     },
     "execution_count": 45,
     "metadata": {},
     "output_type": "execute_result"
    }
   ],
   "source": [
    "product_list = [act for act in afdb if 'Barley' in act['name']\n",
    "                    and 'AR' in act['name']\n",
    "                    and 'at farm' in act['name']\n",
    "]\n",
    "product_list"
   ]
  },
  {
   "cell_type": "code",
   "execution_count": 46,
   "id": "91c19b91-181e-4eb7-86f3-bdb4e1dddcb1",
   "metadata": {
    "tags": []
   },
   "outputs": [],
   "source": [
    "method_list = []\n",
    "for method in bd.methods:\n",
    "    if 'EF v3.0' in method and \"global warming potential (GWP100)\" in method:\n",
    "        method_list.append(method)\n"
   ]
  },
  {
   "cell_type": "code",
   "execution_count": 47,
   "id": "4098b7f1-a3b6-47ed-a08c-dacccd63abca",
   "metadata": {},
   "outputs": [
    {
     "name": "stdout",
     "output_type": "stream",
     "text": [
      "'Barley straw, at farm {AR} Energy, U' (kilogram, AR, None) climate change 3.164372971768886\n",
      "'Barley straw, at farm {AR} Energy, U' (kilogram, AR, None) climate change: biogenic 0.000274864106673702\n",
      "'Barley straw, at farm {AR} Energy, U' (kilogram, AR, None) climate change: fossil 0.2540552421932238\n",
      "'Barley straw, at farm {AR} Energy, U' (kilogram, AR, None) climate change: land use and land use change 2.9100428654689883\n",
      "'Barley grain, at farm {AR} Energy, U' (kilogram, AR, None) climate change 3.029741333491451\n",
      "'Barley grain, at farm {AR} Energy, U' (kilogram, AR, None) climate change: biogenic 0.0002631697187759131\n",
      "'Barley grain, at farm {AR} Energy, U' (kilogram, AR, None) climate change: fossil 0.24324618972861348\n",
      "'Barley grain, at farm {AR} Energy, U' (kilogram, AR, None) climate change: land use and land use change 2.7862319740440618\n"
     ]
    }
   ],
   "source": [
    "for product in product_list:\n",
    "    for lcia_method in method_list:\n",
    "        lca = bc.LCA({product: 1}, method=lcia_method)\n",
    "        lca.lci()\n",
    "        lca.lcia()\n",
    "        print(product, lcia_method[1],lca.score)"
   ]
  }
 ],
 "metadata": {
  "kernelspec": {
   "display_name": "Python 3 (ipykernel)",
   "language": "python",
   "name": "python3"
  },
  "language_info": {
   "codemirror_mode": {
    "name": "ipython",
    "version": 3
   },
   "file_extension": ".py",
   "mimetype": "text/x-python",
   "name": "python",
   "nbconvert_exporter": "python",
   "pygments_lexer": "ipython3",
   "version": "3.9.7"
  }
 },
 "nbformat": 4,
 "nbformat_minor": 5
}
